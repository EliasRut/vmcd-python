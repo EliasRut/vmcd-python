{
 "cells": [
  {
   "cell_type": "markdown",
   "metadata": {},
   "source": [
    "# Welcome to the Game\n",
    "\n",
    "This is an escape game. You can use function calls to move your character and interact with the environment.\n",
    "If you perform any action that is not possible, you loose the game.\n",
    "If you get to the last room to the east, you win the game.\n",
    "\n",
    "If there is nothing to block your way, you can always go east and west.\n",
    "\n",
    "Use the following functions:\n",
    "- start_game\n",
    "- go_east\n",
    "- go_west\n",
    "- open_door\n",
    "- take_item\n",
    "- use_item\n",
    "- pull_lever\n",
    "- speak\n",
    "\n",
    "If you find a gargoyle, know that it prefers answers that are short and to the point. If it asks for a name, just speak that name. If it asks for two names, speak \"name_a and name_b\"."
   ]
  },
  {
   "cell_type": "code",
   "execution_count": null,
   "metadata": {},
   "outputs": [],
   "source": [
    "from game import start_game, go_east, go_west, open_door, take_item, use_item, speak, pull_lever, get_room_content, get_room_type, get_room_description\n",
    "start_game(0)"
   ]
  }
 ],
 "metadata": {
  "kernelspec": {
   "display_name": "Python 3",
   "language": "python",
   "name": "python3"
  },
  "language_info": {
   "codemirror_mode": {
    "name": "ipython",
    "version": 3
   },
   "file_extension": ".py",
   "mimetype": "text/x-python",
   "name": "python",
   "nbconvert_exporter": "python",
   "pygments_lexer": "ipython3",
   "version": "3.12.0b2"
  }
 },
 "nbformat": 4,
 "nbformat_minor": 2
}
