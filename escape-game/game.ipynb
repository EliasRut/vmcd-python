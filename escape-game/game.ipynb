{
 "cells": [
  {
   "cell_type": "markdown",
   "metadata": {},
   "source": [
    "# Welcome to the Game\n",
    "\n",
    "This is an escape game. You can use function calls to move your character and interact with the environment.\n",
    "If you perform any action that is not possible, you loose the game.\n",
    "If you get to the last room to the east, you win the game.\n",
    "\n",
    "If there is nothing to block your way, you can always go east and west.\n",
    "\n",
    "Use the following functions:\n",
    "- start_game\n",
    "- go_east\n",
    "- go_west\n",
    "- open_door\n",
    "- take_item\n",
    "- use_item\n",
    "- pull_lever\n",
    "- speak\n",
    "\n",
    "If you find a gargoyle, know that it prefers answers that are short and to the point. If it asks for a name, just speak that name. If it asks for two names, speak \"name_a and name_b\"."
   ]
  },
  {
   "cell_type": "code",
   "execution_count": 1,
   "metadata": {},
   "outputs": [],
   "source": [
    "from game import start_game, go_east, go_west, open_door, take_item, use_item, speak, pull_lever, get_room_content, get_room_type, get_room_description\n",
    "def take_step():\n",
    "    \"\"\"\n",
    "    This function takes a step in the game\n",
    "    \"\"\"\n",
    "    print(\"Evaluating what to do next.\")\n",
    "\n",
    "    room_type = get_room_type()\n",
    "    room_content = get_room_content()\n",
    "    if room_type == \"start\":\n",
    "        go_east()\n",
    "        return True\n",
    "    elif room_type == \"end\":\n",
    "        return False\n",
    "    elif room_content == \"unlocked door\":\n",
    "        open_door()\n",
    "        return True\n",
    "    elif room_content == \"open door\":\n",
    "        go_east()\n",
    "        return True\n",
    "    elif room_content == None:\n",
    "        go_east()\n",
    "        return True\n",
    "    else:\n",
    "        return False\n",
    "\n",
    "def solve_game(difficulty):\n",
    "    \"\"\"\n",
    "    This function automatically solves a game at the passed in difficulty\n",
    "    \"\"\"\n",
    "    start_game(difficulty)\n",
    "\n",
    "    is_running = True\n",
    "    while is_running == True:\n",
    "        is_running = take_step()\n"
   ]
  },
  {
   "cell_type": "code",
   "execution_count": 2,
   "metadata": {},
   "outputs": [
    {
     "name": "stdout",
     "output_type": "stream",
     "text": [
      "Game has started in difficulty 0\n",
      "You are in a dark room. You can see a passage to the east.\n",
      "Evaluating what to do next.\n",
      "You go east into the next room.\n",
      "You are in a room with a large treasure chest.\n",
      "You have won the game\n",
      "Evaluating what to do next.\n",
      "Game is over\n",
      "Game is over\n"
     ]
    }
   ],
   "source": [
    "solve_game(0)"
   ]
  }
 ],
 "metadata": {
  "kernelspec": {
   "display_name": "Python 3",
   "language": "python",
   "name": "python3"
  },
  "language_info": {
   "codemirror_mode": {
    "name": "ipython",
    "version": 3
   },
   "file_extension": ".py",
   "mimetype": "text/x-python",
   "name": "python",
   "nbconvert_exporter": "python",
   "pygments_lexer": "ipython3",
   "version": "3.12.0b2"
  }
 },
 "nbformat": 4,
 "nbformat_minor": 2
}
